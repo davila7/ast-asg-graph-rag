{
 "cells": [
  {
   "cell_type": "code",
   "execution_count": 5,
   "metadata": {},
   "outputs": [
    {
     "name": "stdout",
     "output_type": "stream",
     "text": [
      "Module(\n",
      "    body=[\n",
      "        FunctionDef(\n",
      "            name='foo',\n",
      "            args=arguments(\n",
      "                posonlyargs=[],\n",
      "                args=[\n",
      "                    arg(arg='x')],\n",
      "                kwonlyargs=[],\n",
      "                kw_defaults=[],\n",
      "                defaults=[]),\n",
      "            body=[\n",
      "                Assign(\n",
      "                    targets=[\n",
      "                        Name(id='y', ctx=Store())],\n",
      "                    value=BinOp(\n",
      "                        left=Name(id='x', ctx=Load()),\n",
      "                        op=Add(),\n",
      "                        right=Constant(value=1))),\n",
      "                Expr(\n",
      "                    value=Call(\n",
      "                        func=Name(id='print', ctx=Load()),\n",
      "                        args=[\n",
      "                            Name(id='y', ctx=Load())],\n",
      "                        keywords=[]))],\n",
      "            decorator_list=[]),\n",
      "        Expr(\n",
      "            value=Call(\n",
      "                func=Name(id='foo', ctx=Load()),\n",
      "                args=[\n",
      "                    Constant(value=5)],\n",
      "                keywords=[]))],\n",
      "    type_ignores=[])\n"
     ]
    },
    {
     "data": {
      "image/png": "[encoded data removed]",
      "text/plain": [
       "<IPython.core.display.Image object>"
      ]
     },
     "metadata": {},
     "output_type": "display_data"
    }
   ],
   "source": [
    "import ast\n",
    "import astor\n",
    "import pydot\n",
    "from IPython.display import Image, display\n",
    "\n",
    "class GraphVisitor(ast.NodeVisitor):\n",
    "    def __init__(self):\n",
    "        self.graph = pydot.Dot(graph_type='digraph')\n",
    "        self.current_function = None\n",
    "\n",
    "    def visit_FunctionDef(self, node):\n",
    "        func_node = pydot.Node(node.name, shape='box', color='lightblue')\n",
    "        self.graph.add_node(func_node)\n",
    "        self.current_function = func_node\n",
    "        self.generic_visit(node)\n",
    "        self.current_function = None\n",
    "\n",
    "    def visit_Assign(self, node):\n",
    "        targets = [astor.to_source(t).strip() for t in node.targets]\n",
    "        value = astor.to_source(node.value).strip()\n",
    "        assign_node = pydot.Node(f\"{' = '.join(targets)} = {value}\", shape='ellipse', color='lightgreen')\n",
    "        self.graph.add_node(assign_node)\n",
    "        if self.current_function:\n",
    "            self.graph.add_edge(pydot.Edge(self.current_function, assign_node))\n",
    "        self.generic_visit(node)\n",
    "\n",
    "    def visit_Expr(self, node):\n",
    "        expr_node = pydot.Node(astor.to_source(node).strip(), shape='ellipse', color='lightyellow')\n",
    "        self.graph.add_node(expr_node)\n",
    "        if self.current_function:\n",
    "            self.graph.add_edge(pydot.Edge(self.current_function, expr_node))\n",
    "        self.generic_visit(node)\n",
    "\n",
    "    def visit_Call(self, node):\n",
    "        func = astor.to_source(node.func).strip()\n",
    "        args = [astor.to_source(a).strip() for a in node.args]\n",
    "        call_node = pydot.Node(f\"{func}({', '.join(args)})\", shape='ellipse', color='lightcoral')\n",
    "        self.graph.add_node(call_node)\n",
    "        if self.current_function:\n",
    "            self.graph.add_edge(pydot.Edge(self.current_function, call_node))\n",
    "        self.generic_visit(node)\n",
    "\n",
    "def generate_graph(source_code):\n",
    "    tree = ast.parse(source_code)\n",
    "    visitor = GraphVisitor()\n",
    "    visitor.visit(tree)\n",
    "    return visitor.graph\n",
    "\n",
    "source_code = \"\"\"\n",
    "def foo(x):\n",
    "    y = x + 1\n",
    "    print(y)\n",
    "foo(5)\n",
    "\"\"\"\n",
    "\n",
    "graph = generate_graph(source_code)\n",
    "graph.write_png('graph.png')\n",
    "display(Image('graph.png'))\n"
   ]
  }
 ],
 "metadata": {
  "kernelspec": {
   "display_name": "Python 3",
   "language": "python",
   "name": "python3"
  },
  "language_info": {
   "codemirror_mode": {
    "name": "ipython",
    "version": 3
   },
   "file_extension": ".py",
   "mimetype": "text/x-python",
   "name": "python",
   "nbconvert_exporter": "python",
   "pygments_lexer": "ipython3",
   "version": "3.11.7"
  }
 },
 "nbformat": 4,
 "nbformat_minor": 2
}
